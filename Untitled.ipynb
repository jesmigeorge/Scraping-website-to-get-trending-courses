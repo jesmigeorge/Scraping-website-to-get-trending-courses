{
 "cells": [
  {
   "cell_type": "code",
   "execution_count": 3,
   "id": "4a3095ac",
   "metadata": {},
   "outputs": [],
   "source": [
    "from bs4 import BeautifulSoup\n",
    "from urllib.request import Request, urlopen\n",
    "import csv\n",
    "\n",
    "req = Request(\"https://www.theverge.com/\")\n",
    "html_page = urlopen(req)\n",
    "soup = BeautifulSoup(html_page,\"lxml\")\n",
    "headlines = soup.find_all(attrs={\"class\": [\"group-hover:shadow-highlight-blurple\",\"group-hover:shadow-underline-franklin\",\"text-gray-31 hover:shadow-underline-inherit dark:text-franklin mr-8\",\"text-gray-63 dark:text-gray-94\"]})\n",
    "header = ['id','url','headline','author','date']\n",
    "with open('ddmmyyy_verge.csv', 'w', encoding='UTF8', newline='') as f:\n",
    "    writer = csv.writer(f)\n",
    "    writer.writerow(header)\n",
    "    for i in range(0,6):\n",
    "        j=i;\n",
    "        i*=3\n",
    "        record=[j,\"https://www.theverge.com\"+headlines[i].get(\"href\"),headlines[i].text,headlines[i+1].text,headlines[i+2].text]\n",
    "        writer.writerow(record)"
   ]
  },
  {
   "cell_type": "code",
   "execution_count": null,
   "id": "f92f35fe",
   "metadata": {},
   "outputs": [],
   "source": []
  },
  {
   "cell_type": "code",
   "execution_count": null,
   "id": "5e067aef",
   "metadata": {},
   "outputs": [],
   "source": []
  },
  {
   "cell_type": "code",
   "execution_count": null,
   "id": "5ee6206b",
   "metadata": {},
   "outputs": [],
   "source": []
  },
  {
   "cell_type": "code",
   "execution_count": null,
   "id": "d4493a28",
   "metadata": {},
   "outputs": [],
   "source": []
  },
  {
   "cell_type": "code",
   "execution_count": null,
   "id": "f3ad6203",
   "metadata": {},
   "outputs": [],
   "source": []
  },
  {
   "cell_type": "code",
   "execution_count": null,
   "id": "aa8c3c67",
   "metadata": {},
   "outputs": [],
   "source": []
  },
  {
   "cell_type": "code",
   "execution_count": null,
   "id": "f9349019",
   "metadata": {},
   "outputs": [],
   "source": []
  }
 ],
 "metadata": {
  "kernelspec": {
   "display_name": "Python 3 (ipykernel)",
   "language": "python",
   "name": "python3"
  },
  "language_info": {
   "codemirror_mode": {
    "name": "ipython",
    "version": 3
   },
   "file_extension": ".py",
   "mimetype": "text/x-python",
   "name": "python",
   "nbconvert_exporter": "python",
   "pygments_lexer": "ipython3",
   "version": "3.9.12"
  }
 },
 "nbformat": 4,
 "nbformat_minor": 5
}
